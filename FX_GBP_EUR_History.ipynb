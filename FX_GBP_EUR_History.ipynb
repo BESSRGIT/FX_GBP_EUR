{
 "cells": [
  {
   "cell_type": "markdown",
   "metadata": {},
   "source": [
    "# Time Series: Investigate Currency Exchange History £ --> €\n",
    "## Data: https://www.ofx.com/\n",
    "## Load libraries and read datafile "
   ]
  },
  {
   "cell_type": "code",
   "execution_count": 2,
   "metadata": {},
   "outputs": [],
   "source": [
    "import pandas as pd\n",
    "import numpy as np\n",
    "import matplotlib.pyplot as plt\n",
    "from datetime import datetime"
   ]
  },
  {
   "cell_type": "code",
   "execution_count": 3,
   "metadata": {},
   "outputs": [
    {
     "data": {
      "text/html": [
       "<div>\n",
       "<style scoped>\n",
       "    .dataframe tbody tr th:only-of-type {\n",
       "        vertical-align: middle;\n",
       "    }\n",
       "\n",
       "    .dataframe tbody tr th {\n",
       "        vertical-align: top;\n",
       "    }\n",
       "\n",
       "    .dataframe thead th {\n",
       "        text-align: right;\n",
       "    }\n",
       "</style>\n",
       "<table border=\"1\" class=\"dataframe\">\n",
       "  <thead>\n",
       "    <tr style=\"text-align: right;\">\n",
       "      <th></th>\n",
       "      <th>Date</th>\n",
       "      <th>Conversion</th>\n",
       "    </tr>\n",
       "  </thead>\n",
       "  <tbody>\n",
       "    <tr>\n",
       "      <th>0</th>\n",
       "      <td>1999-01-04</td>\n",
       "      <td>1.397780</td>\n",
       "    </tr>\n",
       "    <tr>\n",
       "      <th>1</th>\n",
       "      <td>1999-01-05</td>\n",
       "      <td>1.409666</td>\n",
       "    </tr>\n",
       "    <tr>\n",
       "      <th>2</th>\n",
       "      <td>1999-01-06</td>\n",
       "      <td>1.422982</td>\n",
       "    </tr>\n",
       "    <tr>\n",
       "      <th>3</th>\n",
       "      <td>1999-01-07</td>\n",
       "      <td>1.411910</td>\n",
       "    </tr>\n",
       "    <tr>\n",
       "      <th>4</th>\n",
       "      <td>1999-01-08</td>\n",
       "      <td>1.420667</td>\n",
       "    </tr>\n",
       "  </tbody>\n",
       "</table>\n",
       "</div>"
      ],
      "text/plain": [
       "        Date  Conversion\n",
       "0 1999-01-04    1.397780\n",
       "1 1999-01-05    1.409666\n",
       "2 1999-01-06    1.422982\n",
       "3 1999-01-07    1.411910\n",
       "4 1999-01-08    1.420667"
      ]
     },
     "execution_count": 3,
     "metadata": {},
     "output_type": "execute_result"
    }
   ],
   "source": [
    "fn = 'ofx-GBP-EUR-10y.xlsx'\n",
    "data = pd.read_excel(fn)\n",
    "df_fx = pd.DataFrame(data)\n",
    "df_fx.head()"
   ]
  },
  {
   "cell_type": "markdown",
   "metadata": {},
   "source": [
    "### Extra columns showing year, month and day separately"
   ]
  },
  {
   "cell_type": "code",
   "execution_count": 4,
   "metadata": {},
   "outputs": [],
   "source": [
    "df_fx['Year'], df_fx['Month'], df_fx['Day'] = (df_fx['Date'].dt.year, \n",
    "                                               df_fx['Date'].dt.month, \n",
    "                                               df_fx['Date'].dt.day)"
   ]
  },
  {
   "cell_type": "code",
   "execution_count": 5,
   "metadata": {},
   "outputs": [
    {
     "data": {
      "text/html": [
       "<div>\n",
       "<style scoped>\n",
       "    .dataframe tbody tr th:only-of-type {\n",
       "        vertical-align: middle;\n",
       "    }\n",
       "\n",
       "    .dataframe tbody tr th {\n",
       "        vertical-align: top;\n",
       "    }\n",
       "\n",
       "    .dataframe thead th {\n",
       "        text-align: right;\n",
       "    }\n",
       "</style>\n",
       "<table border=\"1\" class=\"dataframe\">\n",
       "  <thead>\n",
       "    <tr style=\"text-align: right;\">\n",
       "      <th></th>\n",
       "      <th>Date</th>\n",
       "      <th>Conversion</th>\n",
       "      <th>Year</th>\n",
       "      <th>Month</th>\n",
       "      <th>Day</th>\n",
       "    </tr>\n",
       "  </thead>\n",
       "  <tbody>\n",
       "    <tr>\n",
       "      <th>0</th>\n",
       "      <td>1999-01-04</td>\n",
       "      <td>1.397780</td>\n",
       "      <td>1999</td>\n",
       "      <td>1</td>\n",
       "      <td>4</td>\n",
       "    </tr>\n",
       "    <tr>\n",
       "      <th>1</th>\n",
       "      <td>1999-01-05</td>\n",
       "      <td>1.409666</td>\n",
       "      <td>1999</td>\n",
       "      <td>1</td>\n",
       "      <td>5</td>\n",
       "    </tr>\n",
       "    <tr>\n",
       "      <th>2</th>\n",
       "      <td>1999-01-06</td>\n",
       "      <td>1.422982</td>\n",
       "      <td>1999</td>\n",
       "      <td>1</td>\n",
       "      <td>6</td>\n",
       "    </tr>\n",
       "    <tr>\n",
       "      <th>3</th>\n",
       "      <td>1999-01-07</td>\n",
       "      <td>1.411910</td>\n",
       "      <td>1999</td>\n",
       "      <td>1</td>\n",
       "      <td>7</td>\n",
       "    </tr>\n",
       "    <tr>\n",
       "      <th>4</th>\n",
       "      <td>1999-01-08</td>\n",
       "      <td>1.420667</td>\n",
       "      <td>1999</td>\n",
       "      <td>1</td>\n",
       "      <td>8</td>\n",
       "    </tr>\n",
       "  </tbody>\n",
       "</table>\n",
       "</div>"
      ],
      "text/plain": [
       "        Date  Conversion  Year  Month  Day\n",
       "0 1999-01-04    1.397780  1999      1    4\n",
       "1 1999-01-05    1.409666  1999      1    5\n",
       "2 1999-01-06    1.422982  1999      1    6\n",
       "3 1999-01-07    1.411910  1999      1    7\n",
       "4 1999-01-08    1.420667  1999      1    8"
      ]
     },
     "execution_count": 5,
     "metadata": {},
     "output_type": "execute_result"
    }
   ],
   "source": [
    "df_fx.head()"
   ]
  },
  {
   "cell_type": "markdown",
   "metadata": {},
   "source": [
    "## Split dataframe into 2, i.e. pre- and post-brexit "
   ]
  },
  {
   "cell_type": "code",
   "execution_count": 6,
   "metadata": {},
   "outputs": [],
   "source": [
    "date_of_ref = '2016-06-23' # Date of Referendum\n",
    "df_fx_pre = df_fx.copy()[df_fx['Date'] <= date_of_ref]\n",
    "df_fx_post = df_fx.copy()[df_fx['Date'] > date_of_ref]"
   ]
  },
  {
   "cell_type": "code",
   "execution_count": 7,
   "metadata": {},
   "outputs": [
    {
     "name": "stdout",
     "output_type": "stream",
     "text": [
      "           Date  Conversion  Year  Month  Day\n",
      "5898 2016-06-19    1.273384  2016      6   19\n",
      "5899 2016-06-20    1.273338  2016      6   20\n",
      "5900 2016-06-21    1.296336  2016      6   21\n",
      "5901 2016-06-22    1.302646  2016      6   22\n",
      "5902 2016-06-23    1.297159  2016      6   23\n",
      "           Date  Conversion  Year  Month  Day\n",
      "5903 2016-06-24    1.305769  2016      6   24\n",
      "5904 2016-06-25    1.228998  2016      6   25\n",
      "5905 2016-06-26    1.230365  2016      6   26\n",
      "5906 2016-06-27    1.230365  2016      6   27\n",
      "5907 2016-06-28    1.196887  2016      6   28\n"
     ]
    }
   ],
   "source": [
    "print(df_fx_pre.tail())\n",
    "print(df_fx_post.head())"
   ]
  },
  {
   "cell_type": "markdown",
   "metadata": {},
   "source": [
    "## Re-organize dataframe with having month-day combination as index "
   ]
  },
  {
   "cell_type": "code",
   "execution_count": 8,
   "metadata": {},
   "outputs": [],
   "source": [
    "def get_monthday(dt):\n",
    "   return dt.strftime('%m%d')\n",
    "\n",
    "df_fx_pre['Month-Day'] = df_fx_pre['Date'].apply(get_monthday)\n",
    "df_fx_post['Month-Day'] = df_fx_post['Date'].apply(get_monthday)\n",
    "fx_pre = df_fx_pre[['Conversion', 'Year', 'Month-Day']].set_index(['Month-Day', 'Year']).unstack(1)\n",
    "fx_post = df_fx_post[['Conversion', 'Year', 'Month-Day']].set_index(['Month-Day', 'Year']).unstack(1)"
   ]
  },
  {
   "cell_type": "code",
   "execution_count": 10,
   "metadata": {},
   "outputs": [
    {
     "data": {
      "text/html": [
       "<div>\n",
       "<style scoped>\n",
       "    .dataframe tbody tr th:only-of-type {\n",
       "        vertical-align: middle;\n",
       "    }\n",
       "\n",
       "    .dataframe tbody tr th {\n",
       "        vertical-align: top;\n",
       "    }\n",
       "\n",
       "    .dataframe thead tr th {\n",
       "        text-align: left;\n",
       "    }\n",
       "\n",
       "    .dataframe thead tr:last-of-type th {\n",
       "        text-align: right;\n",
       "    }\n",
       "</style>\n",
       "<table border=\"1\" class=\"dataframe\">\n",
       "  <thead>\n",
       "    <tr>\n",
       "      <th></th>\n",
       "      <th colspan=\"18\" halign=\"left\">Conversion</th>\n",
       "    </tr>\n",
       "    <tr>\n",
       "      <th>Year</th>\n",
       "      <th>1999</th>\n",
       "      <th>2000</th>\n",
       "      <th>2001</th>\n",
       "      <th>2002</th>\n",
       "      <th>2003</th>\n",
       "      <th>2004</th>\n",
       "      <th>2005</th>\n",
       "      <th>2006</th>\n",
       "      <th>2007</th>\n",
       "      <th>2008</th>\n",
       "      <th>2009</th>\n",
       "      <th>2010</th>\n",
       "      <th>2011</th>\n",
       "      <th>2012</th>\n",
       "      <th>2013</th>\n",
       "      <th>2014</th>\n",
       "      <th>2015</th>\n",
       "      <th>2016</th>\n",
       "    </tr>\n",
       "    <tr>\n",
       "      <th>Month-Day</th>\n",
       "      <th></th>\n",
       "      <th></th>\n",
       "      <th></th>\n",
       "      <th></th>\n",
       "      <th></th>\n",
       "      <th></th>\n",
       "      <th></th>\n",
       "      <th></th>\n",
       "      <th></th>\n",
       "      <th></th>\n",
       "      <th></th>\n",
       "      <th></th>\n",
       "      <th></th>\n",
       "      <th></th>\n",
       "      <th></th>\n",
       "      <th></th>\n",
       "      <th></th>\n",
       "      <th></th>\n",
       "    </tr>\n",
       "  </thead>\n",
       "  <tbody>\n",
       "    <tr>\n",
       "      <th>0101</th>\n",
       "      <td>NaN</td>\n",
       "      <td>NaN</td>\n",
       "      <td>1.584304</td>\n",
       "      <td>NaN</td>\n",
       "      <td>NaN</td>\n",
       "      <td>1.419725</td>\n",
       "      <td>1.268651</td>\n",
       "      <td>1.452857</td>\n",
       "      <td>1.484691</td>\n",
       "      <td>1.362160</td>\n",
       "      <td>1.039724</td>\n",
       "      <td>1.128197</td>\n",
       "      <td>1.164769</td>\n",
       "      <td>1.197892</td>\n",
       "      <td>1.232354</td>\n",
       "      <td>1.203232</td>\n",
       "      <td>NaN</td>\n",
       "      <td>1.357325</td>\n",
       "    </tr>\n",
       "    <tr>\n",
       "      <th>0102</th>\n",
       "      <td>NaN</td>\n",
       "      <td>NaN</td>\n",
       "      <td>1.576087</td>\n",
       "      <td>1.635618</td>\n",
       "      <td>NaN</td>\n",
       "      <td>1.421382</td>\n",
       "      <td>1.268651</td>\n",
       "      <td>1.453528</td>\n",
       "      <td>1.485132</td>\n",
       "      <td>1.360680</td>\n",
       "      <td>1.043783</td>\n",
       "      <td>1.120105</td>\n",
       "      <td>1.165938</td>\n",
       "      <td>1.197892</td>\n",
       "      <td>1.229838</td>\n",
       "      <td>1.205049</td>\n",
       "      <td>NaN</td>\n",
       "      <td>1.357310</td>\n",
       "    </tr>\n",
       "    <tr>\n",
       "      <th>0103</th>\n",
       "      <td>NaN</td>\n",
       "      <td>NaN</td>\n",
       "      <td>1.576185</td>\n",
       "      <td>1.600598</td>\n",
       "      <td>1.538632</td>\n",
       "      <td>1.421382</td>\n",
       "      <td>1.268651</td>\n",
       "      <td>1.453527</td>\n",
       "      <td>1.486318</td>\n",
       "      <td>1.344571</td>\n",
       "      <td>1.043783</td>\n",
       "      <td>1.121027</td>\n",
       "      <td>1.160178</td>\n",
       "      <td>1.199120</td>\n",
       "      <td>1.231857</td>\n",
       "      <td>1.202008</td>\n",
       "      <td>NaN</td>\n",
       "      <td>1.357561</td>\n",
       "    </tr>\n",
       "    <tr>\n",
       "      <th>0104</th>\n",
       "      <td>1.397780</td>\n",
       "      <td>1.585471</td>\n",
       "      <td>1.581533</td>\n",
       "      <td>1.601380</td>\n",
       "      <td>NaN</td>\n",
       "      <td>1.421382</td>\n",
       "      <td>1.413756</td>\n",
       "      <td>1.452408</td>\n",
       "      <td>1.482033</td>\n",
       "      <td>1.338745</td>\n",
       "      <td>1.043783</td>\n",
       "      <td>1.121027</td>\n",
       "      <td>1.159097</td>\n",
       "      <td>1.198654</td>\n",
       "      <td>1.231853</td>\n",
       "      <td>1.206721</td>\n",
       "      <td>1.277028</td>\n",
       "      <td>1.357561</td>\n",
       "    </tr>\n",
       "    <tr>\n",
       "      <th>0105</th>\n",
       "      <td>1.409666</td>\n",
       "      <td>1.588270</td>\n",
       "      <td>1.574778</td>\n",
       "      <td>NaN</td>\n",
       "      <td>NaN</td>\n",
       "      <td>1.417992</td>\n",
       "      <td>1.417841</td>\n",
       "      <td>1.450877</td>\n",
       "      <td>1.483945</td>\n",
       "      <td>1.338745</td>\n",
       "      <td>1.045309</td>\n",
       "      <td>1.117052</td>\n",
       "      <td>1.170850</td>\n",
       "      <td>1.208667</td>\n",
       "      <td>1.228956</td>\n",
       "      <td>1.208091</td>\n",
       "      <td>1.277028</td>\n",
       "      <td>1.360186</td>\n",
       "    </tr>\n",
       "  </tbody>\n",
       "</table>\n",
       "</div>"
      ],
      "text/plain": [
       "          Conversion                                                    \\\n",
       "Year            1999      2000      2001      2002      2003      2004   \n",
       "Month-Day                                                                \n",
       "0101             NaN       NaN  1.584304       NaN       NaN  1.419725   \n",
       "0102             NaN       NaN  1.576087  1.635618       NaN  1.421382   \n",
       "0103             NaN       NaN  1.576185  1.600598  1.538632  1.421382   \n",
       "0104        1.397780  1.585471  1.581533  1.601380       NaN  1.421382   \n",
       "0105        1.409666  1.588270  1.574778       NaN       NaN  1.417992   \n",
       "\n",
       "                                                                       \\\n",
       "Year           2005      2006      2007      2008      2009      2010   \n",
       "Month-Day                                                               \n",
       "0101       1.268651  1.452857  1.484691  1.362160  1.039724  1.128197   \n",
       "0102       1.268651  1.453528  1.485132  1.360680  1.043783  1.120105   \n",
       "0103       1.268651  1.453527  1.486318  1.344571  1.043783  1.121027   \n",
       "0104       1.413756  1.452408  1.482033  1.338745  1.043783  1.121027   \n",
       "0105       1.417841  1.450877  1.483945  1.338745  1.045309  1.117052   \n",
       "\n",
       "                                                                       \n",
       "Year           2011      2012      2013      2014      2015      2016  \n",
       "Month-Day                                                              \n",
       "0101       1.164769  1.197892  1.232354  1.203232       NaN  1.357325  \n",
       "0102       1.165938  1.197892  1.229838  1.205049       NaN  1.357310  \n",
       "0103       1.160178  1.199120  1.231857  1.202008       NaN  1.357561  \n",
       "0104       1.159097  1.198654  1.231853  1.206721  1.277028  1.357561  \n",
       "0105       1.170850  1.208667  1.228956  1.208091  1.277028  1.360186  "
      ]
     },
     "execution_count": 10,
     "metadata": {},
     "output_type": "execute_result"
    }
   ],
   "source": [
    "fx_pre.head()"
   ]
  },
  {
   "cell_type": "markdown",
   "metadata": {},
   "source": [
    "## Plots\n",
    "### Conversion rate in the years 2009 / 2010"
   ]
  },
  {
   "cell_type": "code",
   "execution_count": 13,
   "metadata": {},
   "outputs": [
    {
     "data": {
      "text/plain": [
       "Text(0.5, 1.0, 'Conversion Rate £ --> €')"
      ]
     },
     "execution_count": 13,
     "metadata": {},
     "output_type": "execute_result"
    },
    {
     "data": {
      "image/png": "[encoded data removed]",
      "text/plain": [
       "<Figure size 432x288 with 1 Axes>"
      ]
     },
     "metadata": {
      "needs_background": "light"
     },
     "output_type": "display_data"
    }
   ],
   "source": [
    "x = fx_pre.index.values\n",
    "fx_pre['Conversion'][[2009, 2010]].plot()\n",
    "plt.grid(axis = 'y', color='black', linestyle='--', linewidth=0.1)\n",
    "plt.xlabel('Date')\n",
    "plt.ylabel('Conversion Rate')\n",
    "plt.title('Conversion Rate £ --> €', fontweight=\"bold\")"
   ]
  },
  {
   "cell_type": "code",
   "execution_count": 12,
   "metadata": {},
   "outputs": [
    {
     "data": {
      "text/plain": [
       "Text(0.5, 1.0, 'Conversion Rate £ --> €')"
      ]
     },
     "execution_count": 12,
     "metadata": {},
     "output_type": "execute_result"
    },
    {
     "data": {
      "image/png": "[encoded data removed]",
      "text/plain": [
       "<Figure size 432x288 with 1 Axes>"
      ]
     },
     "metadata": {
      "needs_background": "light"
     },
     "output_type": "display_data"
    }
   ],
   "source": [
    "fx_post['Conversion'][[2017, 2018]].plot()\n",
    "plt.grid(axis = 'y', color='black', linestyle='--', linewidth=0.1)\n",
    "plt.xlabel('Date')\n",
    "plt.ylabel('Conversion Rate')\n",
    "plt.title('Conversion Rate £ --> €', fontweight=\"bold\")"
   ]
  },
  {
   "cell_type": "code",
   "execution_count": null,
   "metadata": {},
   "outputs": [],
   "source": []
  }
 ],
 "metadata": {
  "kernelspec": {
   "display_name": "Python 3",
   "language": "python",
   "name": "python3"
  },
  "language_info": {
   "codemirror_mode": {
    "name": "ipython",
    "version": 3
   },
   "file_extension": ".py",
   "mimetype": "text/x-python",
   "name": "python",
   "nbconvert_exporter": "python",
   "pygments_lexer": "ipython3",
   "version": "3.6.8"
  }
 },
 "nbformat": 4,
 "nbformat_minor": 2
}
